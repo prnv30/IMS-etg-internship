{
  "nbformat": 4,
  "nbformat_minor": 0,
  "metadata": {
    "colab": {
      "name": "Adding items to Inventory.ipynb",
      "provenance": [],
      "collapsed_sections": []
    },
    "kernelspec": {
      "name": "python3",
      "display_name": "Python 3"
    },
    "language_info": {
      "name": "python"
    }
  },
  "cells": [
    {
      "cell_type": "markdown",
      "metadata": {
        "id": "uhZE6J238cQw"
      },
      "source": [
        "### Adding Items to The Inventory"
      ]
    },
    {
      "cell_type": "code",
      "metadata": {
        "id": "QJlUmMudiBdv"
      },
      "source": [
        "import json"
      ],
      "execution_count": null,
      "outputs": []
    },
    {
      "cell_type": "code",
      "metadata": {
        "id": "s2o3oj9pBpxx"
      },
      "source": [
        "#Product attributes = (id, name, color, type, price, quantity) \n",
        "inventory = {\n",
        "    '1': {'prod_name': 'Samsung', 'prod_color': ['Blue', 'White', 'Black', 'Silver'], 'prod_type': 'smartphone', 'prod_price': 20000, 'prod_qn': 111},\n",
        "    '2': {'prod_name': 'Motorola', 'prod_color': ['Fuchsia', 'Purple', 'Black', 'White'], 'prod_type': 'smartphone', 'prod_price': 53000, 'prod_qn': 150},\n",
        "    '3': {'prod_name': 'Apple', 'prod_color': ['Blue', 'White', 'Teal', 'Silver'], 'prod_type': 'smartphone', 'prod_price': 30098, 'prod_qn': 99},\n",
        "    '4': {'prod_name': 'Google', 'prod_color': ['Blue', 'White', 'Purple', 'Silver'], 'prod_type': 'smartphone', 'prod_price': 33200, 'prod_qn': 13},\n",
        "    '5': {'prod_name': 'HTC', 'prod_color': ['Blue', 'Maroon', 'Green', 'Teal'], 'prod_type': 'smartphone', 'prod_price': 30043, 'prod_qn': 15},\n",
        "    '6': {'prod_name': 'Huawei', 'prod_color': ['Teal', 'Teal', 'Black', 'Silver'], 'prod_type': 'smartphone', 'prod_price': 34000, 'prod_qn': 35},\n",
        "    '7': {'prod_name': 'Lenovo', 'prod_color': ['Blue', 'White', 'Fuchsia', 'Silver'], 'prod_type': 'smartphone', 'prod_price': 35400, 'prod_qn': 45},\n",
        "    '8': {'prod_name': 'Nokia', 'prod_color': ['Blue', 'White', 'Fuchsia', 'Silver'], 'prod_type': 'smartphone', 'prod_price': 31400, 'prod_qn': 63},\n",
        "    '9': {'prod_name': 'Nubia', 'prod_color': ['Teal', 'Purple', 'Black', 'Silver'], 'prod_type': 'smartphone', 'prod_price': 43000, 'prod_qn': 363},\n",
        "    '10': {'prod_name': 'Oppo', 'prod_color': ['Green', 'Red', 'Black', 'Green'], 'prod_type': 'smartphone', 'prod_price': 35680, 'prod_qn': 25},\n",
        "    '11': {'prod_name': 'OnePlus', 'prod_color': ['Blue', 'White', 'Fuchsia', 'Silver'], 'prod_type': 'smartphone', 'prod_price': 43000, 'prod_qn': 75},\n",
        "    '12': {'prod_name': 'Meizu', 'prod_color': ['Blue', 'Black', 'Lime', 'Silver'], 'prod_type': 'smartphone', 'prod_price': 30436, 'prod_qn': 242},\n",
        "    '13': {'prod_name': 'LG', 'prod_color': ['Blue', 'White', 'Black', 'Silver'], 'prod_type': 'smartphone', 'prod_price': 30990, 'prod_qn': 23},\n",
        "    '14': {'prod_name': 'ZTE', 'prod_color': ['Aqua', 'White', 'Black', 'Silver'], 'prod_type': 'smartphone', 'prod_price': 19000, 'prod_qn': 653},\n",
        "    '15': {'prod_name': 'Xiaomi', 'prod_color': ['Aqua', 'White', 'Black', 'Silver'], 'prod_type': 'smartphone', 'prod_price': 90000, 'prod_qn': 13},\n",
        "    '16': {'prod_name': 'Vivo', 'prod_color': ['Blue', 'Yellow', 'Black', 'Silver'], 'prod_type': 'smartphone', 'prod_price': 37760, 'prod_qn': 111},\n",
        "    '17': {'prod_name': 'Sony', 'prod_color': ['Aqua', 'White', 'Black', 'Silver'], 'prod_type': 'smartphone', 'prod_price': 13300, 'prod_qn': 113},\n",
        "    '18': {'prod_name': 'Realme', 'prod_color': ['Blue', 'White', 'Purple', 'Silver'], 'prod_type': 'smartphone', 'prod_price': 45000, 'prod_qn': 135},\n",
        "    '19': {'prod_name': 'Asus', 'prod_color': ['Fuchsia', 'White', 'Black', 'Silver'], 'prod_type': 'smartphone', 'prod_price': 30660, 'prod_qn': 13},\n",
        "    '20': {'prod_name': 'JBL', 'prod_color': ['Blue', 'White', 'Black', 'Silver'], 'prod_type': 'headphones', 'prod_price': 30780, 'prod_qn': 85},\n",
        "    '21': {'prod_name': 'Sony', 'prod_color': ['Blue', 'White', 'Maroon', 'Aqua'], 'prod_type': 'headphones', 'prod_price': 39900, 'prod_qn': 135},\n",
        "    '22': {'prod_name': 'Bose', 'prod_color': ['Blue', 'Aqua', 'Black', 'Silver'], 'prod_type': 'headphones', 'prod_price': 30999, 'prod_qn': 14},\n",
        "    '23': {'prod_name': 'Beats', 'prod_color': ['Blue', 'Maroon', 'Black', 'Silver'], 'prod_type': 'headphones', 'prod_price': 32300, 'prod_qn': 16},\n",
        "    '24': {'prod_name': 'Xiaomi', 'prod_color': ['Blue', 'White', 'Black', 'Silver'], 'prod_type': 'headphones', 'prod_price': 323200, 'prod_qn': 10},\n",
        "    '25': {'prod_name': 'Logitech', 'prod_color': ['Blue', 'White', 'Black', 'Maroon'], 'prod_type': 'headphones', 'prod_price': 76600, 'prod_qn': 19},\n",
        "    '26': {'prod_name': 'Audio-Technica', 'prod_color': ['Blue', 'White', 'Black', 'Silver'], 'prod_type': 'headphones', 'prod_price': 45000, 'prod_qn': 199},\n",
        "    '27': {'prod_name': 'Sennheiser', 'prod_color': ['Fuchsia', 'White', 'Black', 'Silver'], 'prod_type': 'headphones', 'prod_price': 30560, 'prod_qn': 129},\n",
        "    '28': {'prod_name': 'Panasonic', 'prod_color': ['Green', 'White', 'Black', 'Silver'], 'prod_type': 'headphones', 'prod_price': 38660, 'prod_qn': 17},\n",
        "    '29': {'prod_name': 'Ptron', 'prod_color': ['Lime', 'White', 'Fuchsia', 'Silver'], 'prod_type': 'headphones', 'prod_price': 39969, 'prod_qn': 176},\n",
        "    '30': {'prod_name': 'Samsung', 'prod_color': ['Blue', 'White', 'Black', 'Silver'], 'prod_type': 'headphones', 'prod_price': 32300, 'prod_qn': 78},\n",
        "    '31': {'prod_name': 'Apple', 'prod_color': ['Lime', 'White', 'Black', 'Fuchsia'], 'prod_type': 'headphones', 'prod_price': 30230, 'prod_qn': 85},\n",
        "    '32': {'prod_name': 'Motorola', 'prod_color': ['Blue', 'White', 'Black', 'Silver'], 'prod_type': 'headphones', 'prod_price': 133000, 'prod_qn': 64},\n",
        "    '33': {'prod_name': 'Google', 'prod_color': ['Lime', 'White', 'Black', 'Silver'], 'prod_type': 'headphones', 'prod_price': 30056, 'prod_qn': 26},\n",
        "    '34': {'prod_name': 'Skullcandy', 'prod_color': ['Blue', 'White', 'Fuchsia', 'Silver'], 'prod_type': 'headphones', 'prod_price': 32300, 'prod_qn': 69},\n",
        "    '35': {'prod_name': 'Stanton', 'prod_color': ['Aqua', 'White', 'Black', 'Silver'], 'prod_type': 'headphones', 'prod_price': 67000, 'prod_qn': 72},\n",
        "    '36': {'prod_name': 'Taotronics', 'prod_color': ['Blue', 'White', 'Black', 'Silver'], 'prod_type': 'headphones', 'prod_price': 36700, 'prod_qn': 19},\n",
        "    '37': {'prod_name': 'Beyerdynamics', 'prod_color': ['Aqua', 'White', 'Black', 'Silver'], 'prod_type': 'headphones', 'prod_price': 38500, 'prod_qn': 91},\n",
        "    '38': {'prod_name': 'Thrustmaster', 'prod_color': ['Blue', 'White', 'Black', 'Silver'], 'prod_type': 'headphones', 'prod_price': 31800, 'prod_qn': 55},\n",
        "    '39': {'prod_name': 'Corsair', 'prod_color': ['Aqua', 'White', 'Fuchsia', 'Silver'], 'prod_type': 'headphones', 'prod_price': 40600, 'prod_qn': 74}\n",
        "} "
      ],
      "execution_count": null,
      "outputs": []
    },
    {
      "cell_type": "code",
      "metadata": {
        "colab": {
          "base_uri": "https://localhost:8080/"
        },
        "id": "XnovB49oD9KY",
        "outputId": "762344d9-0fcc-45dc-b426-340473cc586b"
      },
      "source": [
        "prod_id = input(\"Enter the product id: \")\n",
        "prod_name = input(\"Enter the product name: \")\n",
        "prod_color = list(map(str, input(\"Enter Color(s) separated by a comma: \").split(',')))\n",
        "prod_type = input(\"Enter the product type: \")\n",
        "prod_price = int(input(\"Enter the product price: \"))\n",
        "prod_qn = int(input(\"Enter the product quantity: \"))"
      ],
      "execution_count": null,
      "outputs": [
        {
          "name": "stdout",
          "output_type": "stream",
          "text": [
            "Enter the product id: 40\n",
            "Enter the product name: Razer\n",
            "Enter Color(s) separated by a comma: Green, Silver, Black, Pink\n",
            "Enter the product type: headphones\n",
            "Enter the product price: 17000\n",
            "Enter the product quantity: 130\n"
          ]
        }
      ]
    },
    {
      "cell_type": "code",
      "metadata": {
        "id": "p8bVzS_1JhOs",
        "colab": {
          "base_uri": "https://localhost:8080/"
        },
        "outputId": "c25ca9ee-e6b3-4c29-af5c-11724b8fef26"
      },
      "source": [
        "#check if user is trying to modify a product which already exists in the inventory\n",
        "if prod_id in inventory.keys():\n",
        "  inventory[prod_id] = {'prod_name': prod_name, 'prod_color': prod_color, 'prod_type': prod_type, 'prod_price': prod_price, 'prod_qn': inventory[prod_id]['prod_qn'] + prod_qn}\n",
        "  print(\"Product details modified sussessfully.\")\n",
        "#else create a new product\n",
        "else:\n",
        "  inventory[prod_id] = {'prod_name': prod_name, 'prod_color': prod_color, 'prod_type': prod_type, 'prod_price': prod_price, 'prod_qn': prod_qn}\n",
        "  print(\"Product added sussessfully.\")\n"
      ],
      "execution_count": null,
      "outputs": [
        {
          "output_type": "stream",
          "name": "stdout",
          "text": [
            "Product added sussessfully.\n"
          ]
        }
      ]
    },
    {
      "cell_type": "code",
      "metadata": {
        "id": "yZb_ISvph77Z"
      },
      "source": [
        "#write the inventory to 'records.json' file\n",
        "js = json.dumps(inventory)\n",
        "fd = open('records.json', 'w')\n",
        "fd.write(js)\n",
        "fd.close()"
      ],
      "execution_count": null,
      "outputs": []
    }
  ]
}